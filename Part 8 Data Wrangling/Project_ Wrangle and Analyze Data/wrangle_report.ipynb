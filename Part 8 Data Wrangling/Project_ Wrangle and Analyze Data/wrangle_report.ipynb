{
 "cells": [
  {
   "cell_type": "markdown",
   "metadata": {},
   "source": [
    "# Data wrangling WeRateDogs project\n",
    "\n",
    "## Introduction\n",
    "\n",
    "We will do data wrangling for the tweet archive of Twitter user [@dog_rates](https://twitter.com/dog_rates).\n",
    "\n",
    "## Gathering Data\n",
    "### Gathering data of twitter-archive-enhanced.csv\n",
    "* We munally download WeRateDogs from the following [link](https://d17h27t6h515a5.cloudfront.net/topher/2017/August/59a4e958_twitter-archive-enhanced/twitter-archive-enhanced.csv).\n",
    "\n",
    "### Gathering data of image-predictions.tsv\n",
    "* The tweet image prediction, i.e., what greed of dong(or other object, animal, etc), is downloaded programmatically from the following [link](https://d17h27t6h515a5.cloudfront.net/topher/2017/August/599fd2ad_image-predictions/image-predictions.tsv), which is hosted on Udacity's server\n",
    "\n",
    "### Gathering data of tweet_json.txt\n",
    "* WeRateDogs tweet will be downloaded into tweet_json.txt by using Tweepy, after we register to Twitter's Developer Portal\n",
    "* Each tweet's retweet count and favorite (\"like\") count will be used for analysis"
   ]
  },
  {
   "cell_type": "markdown",
   "metadata": {},
   "source": [
    "# Assessing data\n",
    "\n",
    "there are three dataframes.\n",
    "* twitter_archive_enhanced from twitter_archive_enhanced.csv\n",
    "* image_predictions from image_predictions.tsv, and it is downloaded programmatically\n",
    "* df_json from by using tweepy API"
   ]
  },
  {
   "cell_type": "markdown",
   "metadata": {},
   "source": [
    "# Tidiness issues #1~2\n",
    "* Need to join df_json with twitter_archive_enhanced, as tweet_id is a key\n",
    "* Need to join image_predictions with twitter_archive_enhanced, as tweet_id is a key, also"
   ]
  },
  {
   "cell_type": "markdown",
   "metadata": {},
   "source": [
    "# Quality issue #1/8 as completeness\n",
    "* There are 4 missing rows. five row will be missing while we merge two dataframe into one.\n",
    " * twitter_archive_enhanced have 2356 rows\n",
    " * df_json have 2342 rows.\n",
    " \n",
    "# Quality issue #2/8 as completeness\n",
    "* image_predictions have 2068 rows, unlike df have 2341\n",
    "* We will lose some rows from df, some tweet don't have image_predictions rows\n",
    "* Now, we lost about 300 rows from df due to that they are not exited in image_predictions\n",
    "\n",
    "# Quality issue #3 ~ 8\n",
    "* in_reply_to_status_id type should be int64, not float64, as it is according twitter reference below\n",
    " * https://developer.twitter.com/en/docs/tweets/data-dictionary/overview/tweet-object.html\n",
    "* in_reply_to_user_id type should be int64, not float64, as it is according twitter reference below\n",
    " * https://developer.twitter.com/en/docs/tweets/data-dictionary/overview/tweet-object.html\n",
    "* timestamp should be string, not object\n",
    "* name should be string, not object\n",
    "* jpg_url should be string, not object\n",
    "* p1, p2, p3 should be string, not object"
   ]
  },
  {
   "cell_type": "markdown",
   "metadata": {},
   "source": [
    "# Storing Data\n",
    "\n",
    "Tidiness and Quality issues above are resolved and dataframe is sotred into 'tiditwitter_archive_master.csv'"
   ]
  }
 ],
 "metadata": {
  "kernelspec": {
   "display_name": "Python 3",
   "language": "python",
   "name": "python3"
  },
  "language_info": {
   "codemirror_mode": {
    "name": "ipython",
    "version": 3
   },
   "file_extension": ".py",
   "mimetype": "text/x-python",
   "name": "python",
   "nbconvert_exporter": "python",
   "pygments_lexer": "ipython3",
   "version": "3.6.5"
  }
 },
 "nbformat": 4,
 "nbformat_minor": 2
}

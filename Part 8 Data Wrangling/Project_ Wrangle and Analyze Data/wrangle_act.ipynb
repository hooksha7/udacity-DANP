{
 "cells": [
  {
   "cell_type": "markdown",
   "metadata": {},
   "source": [
    "# Data wrangling WeRateDogs project\n",
    "\n",
    "## Introduction\n",
    "\n",
    "We will do data wrangling for the tweet archive of Twitter user [@dog_rates](https://twitter.com/dog_rates).\n",
    "\n",
    "## Gathering Data\n",
    "### Gathering data of twitter-archive-enhanced.csv\n",
    "* We munally download WeRateDogs from the following [link](https://d17h27t6h515a5.cloudfront.net/topher/2017/August/59a4e958_twitter-archive-enhanced/twitter-archive-enhanced.csv).\n",
    "\n",
    "### Gathering data of image-predictions.tsv\n",
    "* The tweet image prediction, i.e., what greed of dong(or other object, animal, etc), is downloaded programmatically from the following [link](https://d17h27t6h515a5.cloudfront.net/topher/2017/August/599fd2ad_image-predictions/image-predictions.tsv), which is hosted on Udacity's server"
   ]
  },
  {
   "cell_type": "code",
   "execution_count": 32,
   "metadata": {},
   "outputs": [],
   "source": [
    "# Download programmatically\n",
    "import requests\n",
    "import os\n",
    "\n",
    "url = 'https://d17h27t6h515a5.cloudfront.net/topher/2017/August/599fd2ad_image-predictions/image-predictions.tsv'\n",
    "response = requests.get(url)\n",
    "\n",
    "# Save to file\n",
    "with open('image-predictions.tsv', 'wb+') as file:\n",
    "    file.write(response.content)"
   ]
  },
  {
   "cell_type": "markdown",
   "metadata": {},
   "source": [
    "### Gathering data of tweet_json.txt\n",
    "* WeRateDogs tweet will be downloaded into tweet_json.txt by using Tweepy, after we register to Twitter's Developer Portal\n",
    "* Each tweet's retweet count and favorite (\"like\") count will be used for analysis"
   ]
  },
  {
   "cell_type": "code",
   "execution_count": 39,
   "metadata": {},
   "outputs": [
    {
     "name": "stdout",
     "output_type": "stream",
     "text": [
      "tweet_id : 892420643555336193\n"
     ]
    },
    {
     "data": {
      "text/html": [
       "<div>\n",
       "<style scoped>\n",
       "    .dataframe tbody tr th:only-of-type {\n",
       "        vertical-align: middle;\n",
       "    }\n",
       "\n",
       "    .dataframe tbody tr th {\n",
       "        vertical-align: top;\n",
       "    }\n",
       "\n",
       "    .dataframe thead th {\n",
       "        text-align: right;\n",
       "    }\n",
       "</style>\n",
       "<table border=\"1\" class=\"dataframe\">\n",
       "  <thead>\n",
       "    <tr style=\"text-align: right;\">\n",
       "      <th></th>\n",
       "      <th>tweet_id</th>\n",
       "      <th>retweet_count</th>\n",
       "      <th>favorite_count</th>\n",
       "    </tr>\n",
       "  </thead>\n",
       "  <tbody>\n",
       "    <tr>\n",
       "      <th>0</th>\n",
       "      <td>892420643555336193</td>\n",
       "      <td>8378</td>\n",
       "      <td>38254</td>\n",
       "    </tr>\n",
       "  </tbody>\n",
       "</table>\n",
       "</div>"
      ],
      "text/plain": [
       "             tweet_id  retweet_count  favorite_count\n",
       "0  892420643555336193           8378           38254"
      ]
     },
     "execution_count": 39,
     "metadata": {},
     "output_type": "execute_result"
    }
   ],
   "source": [
    "import pandas as pd\n",
    "import tweepy\n",
    "import json\n",
    "\n",
    "key = \"ZKXGaDrLuWyugH042yBJvC191\"\n",
    "key_secret = \"3zVRig5tumibOgV9LiecifT5gP4zDRFl7w0q66QvHaLz2pS0e8\"\n",
    "token = \"76198362-yhOiY8Tbcg3IJT2eASbnXQ8fHQ0KRvHRtp3rw4v3q\"\n",
    "token_secret = \"bSywULUWxIrixIsF2DquFPgnGSvOX5W9Jn1XWnp2CZToG\"\n",
    "\n",
    "auth = tweepy.OAuthHandler(key, key_secret)\n",
    "auth.set_access_token(token, token_secret)\n",
    "\n",
    "api = tweepy.API(auth)\n",
    "\n",
    "# get tweet ids only. from twitter_archive_enhanced\n",
    "df_tweet = twitter_archive_enhanced\n",
    "tweet_ids = list(df_tweet.tweet_id)\n",
    "\n",
    "tweet_json = {}\n",
    "\n",
    "for tweet_id in tweet_ids:\n",
    "    try:\n",
    "        tweet_status = api.get_status(tweet_id, wait_on_rate_limit=True, wait_on_rate_limit_notify=True)\n",
    "        tweet_json[str(tweet_id)] = tweet_status._json\n",
    "    except tweepy.TweepError as e:\n",
    "        print(\"TweepError tweet_id error: \" + str(tweet_id))\n",
    "        print(e)\n",
    "    except tweepy.RateLimitError as e:\n",
    "        print(\"RateLimitError tweet_id error: \" + str(tweet_id))\n",
    "        print(e)\n",
    "    except Exception as e:\n",
    "        print(\"Exception\")\n",
    "        print(e)\n",
    "    # there is no exception\n",
    "    else:\n",
    "        print(\"tweet_id : \" + str(tweet_id))\n",
    "\n",
    "# Save json to file\n",
    "with open('tweet_json.txt', 'w') as file:\n",
    "    json.dump(tweet_json, file)"
   ]
  },
  {
   "cell_type": "markdown",
   "metadata": {},
   "source": [
    "# Assessing data\n",
    "\n",
    "there are three dataframes.\n",
    "* twitter_archive_enhanced from twitter_archive_enhanced.csv\n",
    "* image_predictions from image_predictions.tsv\n",
    "* df_json from by using tweepy API"
   ]
  },
  {
   "cell_type": "code",
   "execution_count": 60,
   "metadata": {},
   "outputs": [],
   "source": [
    "# Loading three dataframes from csv, tsv and tweet_json.txt\n",
    "\n",
    "import pandas as pd\n",
    "import json\n",
    "\n",
    "twitter_archive_enhanced = pd.read_csv('twitter-archive-enhanced.csv', encoding='utf-8')\n",
    "image_predictions = pd.read_csv('image-predictions.tsv', sep='\\t', encoding='utf-8')\n",
    "\n",
    "import pandas as pd\n",
    "import json\n",
    "\n",
    "# load json to twee_json from file\n",
    "with open('tweet_json.txt', 'r') as file:\n",
    "    tweet_json = json.load(file)\n",
    "    \n",
    "# Create new dataframe from json file\n",
    "tweet_id_list = []\n",
    "retweet_count_list = []\n",
    "favorite_count_list = []\n",
    "\n",
    "for tweet_id in tweet_json.keys():\n",
    "    tweet_id_list.append(tweet_id)\n",
    "    retweet_count_list.append(tweet_json[tweet_id]['retweet_count'])\n",
    "    favorite_count_list.append(tweet_json[tweet_id]['favorite_count'])\n",
    "\n",
    "columns_from_dict = {'tweet_id': tweet_id_list,\n",
    "                'retweet_count': retweet_count_list,\n",
    "                'favorite_count': favorite_count_list}    \n",
    "    \n",
    "df_json = pd.DataFrame.from_dict(columns_from_dict)\n",
    "# retweet_count and favorite_count are created into new dataframe as df_json\n",
    "df_json.to_csv('tweet_json.csv', encoding='utf-8', index=False)"
   ]
  },
  {
   "cell_type": "markdown",
   "metadata": {},
   "source": [
    "## Tidiness issues #1~2\n",
    "* Need to join df_json with twitter_archive_enhanced, as tweet_id is a key\n",
    "* Need to join image_predictions with twitter_archive_enhanced, as tweet_id is a key, also"
   ]
  },
  {
   "cell_type": "code",
   "execution_count": 66,
   "metadata": {},
   "outputs": [
    {
     "name": "stdout",
     "output_type": "stream",
     "text": [
      "<class 'pandas.core.frame.DataFrame'>\n",
      "Int64Index: 2068 entries, 0 to 2067\n",
      "Data columns (total 30 columns):\n",
      "tweet_id                      2068 non-null int64\n",
      "in_reply_to_status_id         23 non-null float64\n",
      "in_reply_to_user_id           23 non-null float64\n",
      "timestamp                     2068 non-null object\n",
      "source                        2068 non-null object\n",
      "text                          2068 non-null object\n",
      "retweeted_status_id           75 non-null float64\n",
      "retweeted_status_user_id      75 non-null float64\n",
      "retweeted_status_timestamp    75 non-null object\n",
      "expanded_urls                 2068 non-null object\n",
      "rating_numerator              2068 non-null int64\n",
      "rating_denominator            2068 non-null int64\n",
      "name                          2068 non-null object\n",
      "doggo                         2068 non-null object\n",
      "floofer                       2068 non-null object\n",
      "pupper                        2068 non-null object\n",
      "puppo                         2068 non-null object\n",
      "retweet_count                 2068 non-null int64\n",
      "favorite_count                2068 non-null int64\n",
      "jpg_url                       2068 non-null object\n",
      "img_num                       2068 non-null int64\n",
      "p1                            2068 non-null object\n",
      "p1_conf                       2068 non-null float64\n",
      "p1_dog                        2068 non-null bool\n",
      "p2                            2068 non-null object\n",
      "p2_conf                       2068 non-null float64\n",
      "p2_dog                        2068 non-null bool\n",
      "p3                            2068 non-null object\n",
      "p3_conf                       2068 non-null float64\n",
      "p3_dog                        2068 non-null bool\n",
      "dtypes: bool(3), float64(7), int64(6), object(14)\n",
      "memory usage: 458.4+ KB\n"
     ]
    }
   ],
   "source": [
    "import pandas as pd\n",
    "\n",
    "twitter_archive_enhanced = pd.read_csv('twitter-archive-enhanced.csv', encoding='utf-8')\n",
    "image_predictions = pd.read_csv('image-predictions.tsv', sep='\\t', encoding='utf-8')\n",
    "df_json = pd.read_csv('tweet_json.csv', encoding='utf-8')\n",
    "\n",
    "# df_json.tweet_id type is not int64, it is object.\n",
    "# So, to merge two dataframes, it should be converted to int64\n",
    "new_column = df_json.tweet_id.astype('int64')\n",
    "df_json.tweet_id = new_column\n",
    "df = pd.merge(twitter_archive_enhanced, df_json, left_on='tweet_id', right_on='tweet_id')\n",
    "df = pd.merge(df, image_predictions, left_on='tweet_id', right_on='tweet_id')\n",
    "df.to_csv('twitter-archive-enhanced_no_tidiness.csv', encoding='utf-8', index=False)\n",
    "df.info()"
   ]
  },
  {
   "cell_type": "markdown",
   "metadata": {},
   "source": [
    "## Quality issue #1/8 as completeness\n",
    "* There are 4 missing rows. five row will be missing while we merge two dataframe into one.\n",
    " * twitter_archive_enhanced have 2356 rows\n",
    " * df_json have 2342 rows.\n",
    " \n",
    "## Quality issue #2/8 as completeness\n",
    "* image_predictions have 2068 rows, unlike df have 2341\n",
    "* We will lose some rows from df, some tweet don't have image_predictions rows\n",
    "* Now, we lost about 300 rows from df due to that they are not exited in image_predictions\n",
    "\n",
    "## Quality issue #3 ~ 8\n",
    "* in_reply_to_status_id type should be int64, not float64, as it is according twitter reference below\n",
    " * https://developer.twitter.com/en/docs/tweets/data-dictionary/overview/tweet-object.html\n",
    "* in_reply_to_user_id type should be int64, not float64, as it is according twitter reference below\n",
    " * https://developer.twitter.com/en/docs/tweets/data-dictionary/overview/tweet-object.html\n",
    "* timestamp should be string, not object\n",
    "* name should be string, not object\n",
    "* jpg_url should be string, not object\n",
    "* p1, p2, p3 should be string, not object\n",
    "\n",
    "# Cleaning data\n",
    "\n",
    "## Define\n",
    "We should get cleaned data without tidiness issues and quality issue above"
   ]
  },
  {
   "cell_type": "markdown",
   "metadata": {},
   "source": [
    "## Code\n",
    "* the code below is to resolve quality issue above\n",
    "* Write cleaned dataframe as twitter_archive_master.csv"
   ]
  },
  {
   "cell_type": "code",
   "execution_count": 69,
   "metadata": {},
   "outputs": [
    {
     "name": "stdout",
     "output_type": "stream",
     "text": [
      "<class 'pandas.core.frame.DataFrame'>\n",
      "RangeIndex: 2068 entries, 0 to 2067\n",
      "Data columns (total 30 columns):\n",
      "tweet_id                      2068 non-null int64\n",
      "in_reply_to_status_id         2068 non-null int64\n",
      "in_reply_to_user_id           2068 non-null int64\n",
      "timestamp                     2068 non-null object\n",
      "source                        2068 non-null object\n",
      "text                          2068 non-null object\n",
      "retweeted_status_id           75 non-null float64\n",
      "retweeted_status_user_id      75 non-null float64\n",
      "retweeted_status_timestamp    75 non-null object\n",
      "expanded_urls                 2068 non-null object\n",
      "rating_numerator              2068 non-null int64\n",
      "rating_denominator            2068 non-null int64\n",
      "name                          2068 non-null object\n",
      "doggo                         2068 non-null object\n",
      "floofer                       2068 non-null object\n",
      "pupper                        2068 non-null object\n",
      "puppo                         2068 non-null object\n",
      "retweet_count                 2068 non-null int64\n",
      "favorite_count                2068 non-null int64\n",
      "jpg_url                       2068 non-null object\n",
      "img_num                       2068 non-null int64\n",
      "p1                            2068 non-null object\n",
      "p1_conf                       2068 non-null float64\n",
      "p1_dog                        2068 non-null bool\n",
      "p2                            2068 non-null object\n",
      "p2_conf                       2068 non-null float64\n",
      "p2_dog                        2068 non-null bool\n",
      "p3                            2068 non-null object\n",
      "p3_conf                       2068 non-null float64\n",
      "p3_dog                        2068 non-null bool\n",
      "dtypes: bool(3), float64(5), int64(8), object(14)\n",
      "memory usage: 442.4+ KB\n"
     ]
    }
   ],
   "source": [
    "import pandas as pd\n",
    "\n",
    "df = pd.read_csv('twitter-archive-enhanced_no_tidiness.csv', encoding='utf-8')\n",
    "\n",
    "df.in_reply_to_status_id = df.in_reply_to_status_id.fillna(0).astype('int64')\n",
    "df.in_reply_to_user_id = df.in_reply_to_user_id.fillna(0).astype('int64')\n",
    "df.timestamp = df.timestamp.astype('str')\n",
    "df.name = df.name.astype('str')\n",
    "df.jpg_url = df.jpg_url.astype('str')\n",
    "df.p1 = df.p1.astype('str')\n",
    "df.p2 = df.p2.astype('str')\n",
    "df.p3 = df.p3.astype('str')\n",
    "\n",
    "df.info()\n",
    "df.to_csv('twitter_archive_master.csv', encoding='utf-8', index=False)"
   ]
  },
  {
   "cell_type": "markdown",
   "metadata": {},
   "source": [
    "## Test\n",
    "We are going to test cleaned dataframe with the copy of orignal dataframe"
   ]
  },
  {
   "cell_type": "code",
   "execution_count": 70,
   "metadata": {
    "scrolled": true
   },
   "outputs": [
    {
     "name": "stdout",
     "output_type": "stream",
     "text": [
      "<class 'pandas.core.frame.DataFrame'>\n",
      "Int64Index: 2068 entries, 0 to 2067\n",
      "Data columns (total 30 columns):\n",
      "tweet_id                      2068 non-null int64\n",
      "in_reply_to_status_id         23 non-null float64\n",
      "in_reply_to_user_id           23 non-null float64\n",
      "timestamp                     2068 non-null object\n",
      "source                        2068 non-null object\n",
      "text                          2068 non-null object\n",
      "retweeted_status_id           75 non-null float64\n",
      "retweeted_status_user_id      75 non-null float64\n",
      "retweeted_status_timestamp    75 non-null object\n",
      "expanded_urls                 2068 non-null object\n",
      "rating_numerator              2068 non-null int64\n",
      "rating_denominator            2068 non-null int64\n",
      "name                          2068 non-null object\n",
      "doggo                         2068 non-null object\n",
      "floofer                       2068 non-null object\n",
      "pupper                        2068 non-null object\n",
      "puppo                         2068 non-null object\n",
      "retweet_count                 2068 non-null int64\n",
      "favorite_count                2068 non-null int64\n",
      "jpg_url                       2068 non-null object\n",
      "img_num                       2068 non-null int64\n",
      "p1                            2068 non-null object\n",
      "p1_conf                       2068 non-null float64\n",
      "p1_dog                        2068 non-null bool\n",
      "p2                            2068 non-null object\n",
      "p2_conf                       2068 non-null float64\n",
      "p2_dog                        2068 non-null bool\n",
      "p3                            2068 non-null object\n",
      "p3_conf                       2068 non-null float64\n",
      "p3_dog                        2068 non-null bool\n",
      "dtypes: bool(3), float64(7), int64(6), object(14)\n",
      "memory usage: 458.4+ KB\n"
     ]
    }
   ],
   "source": [
    "import pandas as pd\n",
    "\n",
    "twitter_archive_enhanced = pd.read_csv('twitter-archive-enhanced.csv', encoding='utf-8')\n",
    "image_predictions = pd.read_csv('image-predictions.tsv', sep='\\t', encoding='utf-8')\n",
    "df_json = pd.read_csv('tweet_json.csv', encoding='utf-8')\n",
    "\n",
    "df1 = twitter_archive_enhanced.copy()\n",
    "df2 = image_predictions.copy()\n",
    "df3 = df_json.copy()\n",
    "\n",
    "df1.tweet_id = df1.tweet_id.astype('int64')\n",
    "df2.tweet_id = df2.tweet_id.astype('int64')\n",
    "df3.tweet_id = df3.tweet_id.astype('int64')\n",
    "\n",
    "df = pd.merge(df1, df3, left_on='tweet_id', right_on='tweet_id')\n",
    "df = pd.merge(df, df2, left_on='tweet_id', right_on='tweet_id')\n",
    "df.info()\n",
    "\n",
    "# we've got same dataframe."
   ]
  },
  {
   "cell_type": "markdown",
   "metadata": {},
   "source": [
    "# Analyzing and Visualizing Data for this Project\n",
    "Three insights are described below with visualizations"
   ]
  },
  {
   "cell_type": "code",
   "execution_count": 79,
   "metadata": {},
   "outputs": [],
   "source": [
    "# Before analyze, loading dataframes\n",
    "import pandas as pd\n",
    "import numpy as np\n",
    "import matplotlib.pyplot as plt\n",
    "%matplotlib inline\n",
    "\n",
    "df = pd.read_csv('twitter_archive_master.csv', encoding='utf-8')\n",
    "\n",
    "df.in_reply_to_status_id = df.in_reply_to_status_id.fillna(0).astype('int64')\n",
    "df.in_reply_to_user_id = df.in_reply_to_user_id.fillna(0).astype('int64')\n",
    "df.timestamp = df.timestamp.astype('str')\n",
    "df.name = df.name.astype('str')\n",
    "df.jpg_url = df.jpg_url.astype('str')\n",
    "df.p1 = df.p1.astype('str')\n",
    "df.p2 = df.p2.astype('str')\n",
    "df.p3 = df.p3.astype('str')"
   ]
  },
  {
   "cell_type": "markdown",
   "metadata": {},
   "source": [
    "## #1 insights\n",
    "* Hope to observe the distribution of tweets as per retweet_count\n",
    " * Very small number of tweet is retweeted extremely high"
   ]
  },
  {
   "cell_type": "code",
   "execution_count": 88,
   "metadata": {},
   "outputs": [
    {
     "data": {
      "text/plain": [
       "<matplotlib.axes._subplots.AxesSubplot at 0x2811d15d8d0>"
      ]
     },
     "execution_count": 88,
     "metadata": {},
     "output_type": "execute_result"
    },
    {
     "data": {
      "image/png": "[encoded data removed]",
      "text/plain": [
       "<Figure size 432x288 with 1 Axes>"
      ]
     },
     "metadata": {},
     "output_type": "display_data"
    }
   ],
   "source": [
    "plt = df.retweet_count.plot(kind='hist', title='Whole tweets as per retweet_count')\n",
    "plt.set_xlabel(\"retweet_count\")\n",
    "plt.set_ylabel(\"Number of tweets\")\n",
    "plt"
   ]
  },
  {
   "cell_type": "markdown",
   "metadata": {},
   "source": [
    " * In the first histogram, we observed that small number of tweet have big retweet_count.\n",
    " * it seems that most of tweets's retweet_count is smaller than 10000\n",
    " * To observe more detail, regarding frequency of retweet_count, they are divided into two groups\n",
    "  * df.retweet_count<10000 , 1970 tweets are belong here\n",
    "   * this group is gradually descreasing as per retwee_count then other group\n",
    "  * df.retweet_count>=10000, only 98 tweets are belong here\n",
    "   * this group is descreasing extremely as per retwee_count then other group"
   ]
  },
  {
   "cell_type": "code",
   "execution_count": 82,
   "metadata": {},
   "outputs": [
    {
     "data": {
      "text/plain": [
       "<matplotlib.axes._subplots.AxesSubplot at 0x2811d45f860>"
      ]
     },
     "execution_count": 82,
     "metadata": {},
     "output_type": "execute_result"
    },
    {
     "data": {
      "image/png": "[encoded data removed]",
      "text/plain": [
       "<Figure size 432x288 with 1 Axes>"
      ]
     },
     "metadata": {},
     "output_type": "display_data"
    }
   ],
   "source": [
    "plt = df[df.retweet_count<10000].retweet_count.plot(kind='hist', title='tweets(retweet_count<10000) as per retweet_count')\n",
    "plt.set_xlabel(\"retweet_count\")\n",
    "plt.set_ylabel(\"Number of tweets\")\n",
    "plt"
   ]
  },
  {
   "cell_type": "code",
   "execution_count": 83,
   "metadata": {},
   "outputs": [
    {
     "data": {
      "text/plain": [
       "<matplotlib.axes._subplots.AxesSubplot at 0x2811d2562e8>"
      ]
     },
     "execution_count": 83,
     "metadata": {},
     "output_type": "execute_result"
    },
    {
     "data": {
      "image/png": "[encoded data removed]",
      "text/plain": [
       "<Figure size 432x288 with 1 Axes>"
      ]
     },
     "metadata": {},
     "output_type": "display_data"
    }
   ],
   "source": [
    "plt = df[df.retweet_count>=10000].retweet_count.plot(kind='hist', title='tweets(retweet_count>=10000) as per retweet_count')\n",
    "plt.set_xlabel(\"retweet_count\")\n",
    "plt.set_ylabel(\"Number of tweets\")\n",
    "plt"
   ]
  },
  {
   "cell_type": "code",
   "execution_count": 27,
   "metadata": {},
   "outputs": [
    {
     "data": {
      "text/plain": [
       "count    1970.000000\n",
       "mean     2013.915228\n",
       "std      2016.279232\n",
       "min        12.000000\n",
       "25%       581.250000\n",
       "50%      1245.500000\n",
       "75%      2832.750000\n",
       "max      9917.000000\n",
       "Name: retweet_count, dtype: float64"
      ]
     },
     "execution_count": 27,
     "metadata": {},
     "output_type": "execute_result"
    }
   ],
   "source": [
    "df[df.retweet_count < 10000].retweet_count.describe()"
   ]
  },
  {
   "cell_type": "code",
   "execution_count": 28,
   "metadata": {},
   "outputs": [
    {
     "data": {
      "text/plain": [
       "count       98.000000\n",
       "mean     19117.785714\n",
       "std      12165.174540\n",
       "min      10047.000000\n",
       "25%      11463.250000\n",
       "50%      15841.000000\n",
       "75%      18972.500000\n",
       "max      84240.000000\n",
       "Name: retweet_count, dtype: float64"
      ]
     },
     "execution_count": 28,
     "metadata": {},
     "output_type": "execute_result"
    }
   ],
   "source": [
    "df[df.retweet_count >= 10000].retweet_count.describe()"
   ]
  },
  {
   "cell_type": "markdown",
   "metadata": {},
   "source": [
    "## #2 insights\n",
    "* To know tweet's distribution as per retwee_count and favorite_count, and also I hope to know regarding correlation coefficient between them\n",
    " * According scatter plot of retweet_count/favorite_count, they have positive relationship\n",
    " * 0.85 is correlation coefficiency value"
   ]
  },
  {
   "cell_type": "code",
   "execution_count": 85,
   "metadata": {},
   "outputs": [
    {
     "data": {
      "text/plain": [
       "<matplotlib.axes._subplots.AxesSubplot at 0x2811faf4da0>"
      ]
     },
     "execution_count": 85,
     "metadata": {},
     "output_type": "execute_result"
    },
    {
     "data": {
      "image/png": "[encoded data removed]",
      "text/plain": [
       "<Figure size 432x288 with 1 Axes>"
      ]
     },
     "metadata": {},
     "output_type": "display_data"
    }
   ],
   "source": [
    "df.plot.scatter(x='retweet_count',\n",
    "                y='favorite_count', alpha=0.1,\n",
    "                title='Correlation between retwee_count and favorite_count')"
   ]
  },
  {
   "cell_type": "code",
   "execution_count": 19,
   "metadata": {},
   "outputs": [
    {
     "data": {
      "text/plain": [
       "0.8560484868962263"
      ]
     },
     "execution_count": 19,
     "metadata": {},
     "output_type": "execute_result"
    }
   ],
   "source": [
    "df.retweet_count.corr(df.favorite_count)"
   ]
  },
  {
   "cell_type": "markdown",
   "metadata": {},
   "source": [
    "## #3 insights\n",
    "* If tweet is recognized as doggo, floofer, pupper or puppo, theses tweet's retwee_count and favorite_count are higher than other?\n",
    "* Correlation coefficient between retwee_count and favorite_count as per doggo, floofer, pupper or puppo\n",
    " * Two groups are defined like below, and they have similar correlation coefficient\n",
    " * One group have at least one doggo, floofer, pupper or puppo\n",
    "  * 0.87\n",
    " * The group have none of doggo, floofer, pupper and puppo\n",
    "  * 0.87\n",
    "* Conclusion is that If tweet is recognized as doggo, floofer, pupper or puppo, retwee_count and favorite_count are not differnt with other tweets\n",
    " * Even correlation coefficient of two groups are same as 0.87, distribution/shape of scatter plot might be different.\n",
    " * However, distribution/shape of scatter plot from two groups are similar"
   ]
  },
  {
   "cell_type": "code",
   "execution_count": 90,
   "metadata": {},
   "outputs": [
    {
     "data": {
      "text/plain": [
       "<matplotlib.axes._subplots.AxesSubplot at 0x2811fb51b00>"
      ]
     },
     "execution_count": 90,
     "metadata": {},
     "output_type": "execute_result"
    },
    {
     "data": {
      "image/png": "[encoded data removed]",
      "text/plain": [
       "<Figure size 432x288 with 1 Axes>"
      ]
     },
     "metadata": {},
     "output_type": "display_data"
    }
   ],
   "source": [
    "df_not_none = df[(df.doggo == 'doggo') | (df.floofer == 'floofer') | (df.pupper == 'pupper') | (df.puppo == 'puppo')]\n",
    "df_not_none.plot.scatter(x='retweet_count',\n",
    "                y='favorite_count', alpha=0.1,\n",
    "                title='tweet is doggo, floofer, pupper or puppo')"
   ]
  },
  {
   "cell_type": "code",
   "execution_count": 11,
   "metadata": {},
   "outputs": [
    {
     "data": {
      "text/plain": [
       "0.8781964836140446"
      ]
     },
     "execution_count": 11,
     "metadata": {},
     "output_type": "execute_result"
    }
   ],
   "source": [
    "df_not_none.retweet_count.corr(df_not_none.favorite_count)"
   ]
  },
  {
   "cell_type": "code",
   "execution_count": 89,
   "metadata": {},
   "outputs": [
    {
     "data": {
      "text/plain": [
       "<matplotlib.axes._subplots.AxesSubplot at 0x2811f3a7ba8>"
      ]
     },
     "execution_count": 89,
     "metadata": {},
     "output_type": "execute_result"
    },
    {
     "data": {
      "image/png": "[encoded data removed]",
      "text/plain": [
       "<Figure size 432x288 with 1 Axes>"
      ]
     },
     "metadata": {},
     "output_type": "display_data"
    }
   ],
   "source": [
    "df_none = df[(df.doggo == 'None') & (df.floofer == 'None') & (df.pupper == 'pupper') & (df.puppo == 'None')]\n",
    "df_none.plot.scatter(x='retweet_count', \n",
    "                     y='favorite_count',\n",
    "                     alpha=0.1,\n",
    "                     title='tweet is not doggo, floofer, pupper nor puppo')"
   ]
  },
  {
   "cell_type": "code",
   "execution_count": 13,
   "metadata": {},
   "outputs": [
    {
     "data": {
      "text/plain": [
       "0.8797800590698425"
      ]
     },
     "execution_count": 13,
     "metadata": {},
     "output_type": "execute_result"
    }
   ],
   "source": [
    "df_none.retweet_count.corr(df_none.favorite_count)"
   ]
  }
 ],
 "metadata": {
  "kernelspec": {
   "display_name": "Python 3",
   "language": "python",
   "name": "python3"
  },
  "language_info": {
   "codemirror_mode": {
    "name": "ipython",
    "version": 3
   },
   "file_extension": ".py",
   "mimetype": "text/x-python",
   "name": "python",
   "nbconvert_exporter": "python",
   "pygments_lexer": "ipython3",
   "version": "3.6.5"
  }
 },
 "nbformat": 4,
 "nbformat_minor": 2
}
